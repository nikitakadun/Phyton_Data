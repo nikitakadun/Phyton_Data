{
 "cells": [
  {
   "cell_type": "code",
   "execution_count": 1,
   "id": "188f8d57-dcb4-4e76-b6c6-ceff2453128e",
   "metadata": {},
   "outputs": [],
   "source": [
    "import pandas as pd"
   ]
  },
  {
   "cell_type": "code",
   "execution_count": 2,
   "id": "555fef58-14d5-491a-bf5f-fdaddfceeceb",
   "metadata": {},
   "outputs": [
    {
     "data": {
      "text/html": [
       "<div>\n",
       "<style scoped>\n",
       "    .dataframe tbody tr th:only-of-type {\n",
       "        vertical-align: middle;\n",
       "    }\n",
       "\n",
       "    .dataframe tbody tr th {\n",
       "        vertical-align: top;\n",
       "    }\n",
       "\n",
       "    .dataframe thead th {\n",
       "        text-align: right;\n",
       "    }\n",
       "</style>\n",
       "<table border=\"1\" class=\"dataframe\">\n",
       "  <thead>\n",
       "    <tr style=\"text-align: right;\">\n",
       "      <th></th>\n",
       "      <th>age</th>\n",
       "      <th>workclass</th>\n",
       "      <th>fnlwgt</th>\n",
       "      <th>education</th>\n",
       "      <th>education-num</th>\n",
       "      <th>marital-status</th>\n",
       "      <th>occupation</th>\n",
       "      <th>relationship</th>\n",
       "      <th>race</th>\n",
       "      <th>sex</th>\n",
       "      <th>capital-gain</th>\n",
       "      <th>capital-loss</th>\n",
       "      <th>hours-per-week</th>\n",
       "      <th>native-country</th>\n",
       "      <th>income</th>\n",
       "    </tr>\n",
       "  </thead>\n",
       "  <tbody>\n",
       "    <tr>\n",
       "      <th>0</th>\n",
       "      <td>39</td>\n",
       "      <td>State-gov</td>\n",
       "      <td>77516</td>\n",
       "      <td>Bachelors</td>\n",
       "      <td>13</td>\n",
       "      <td>Never-married</td>\n",
       "      <td>Adm-clerical</td>\n",
       "      <td>Not-in-family</td>\n",
       "      <td>White</td>\n",
       "      <td>Male</td>\n",
       "      <td>2174</td>\n",
       "      <td>0</td>\n",
       "      <td>40</td>\n",
       "      <td>United-States</td>\n",
       "      <td>&lt;=50K</td>\n",
       "    </tr>\n",
       "    <tr>\n",
       "      <th>1</th>\n",
       "      <td>50</td>\n",
       "      <td>Self-emp-not-inc</td>\n",
       "      <td>83311</td>\n",
       "      <td>Bachelors</td>\n",
       "      <td>13</td>\n",
       "      <td>Married-civ-spouse</td>\n",
       "      <td>Exec-managerial</td>\n",
       "      <td>Husband</td>\n",
       "      <td>White</td>\n",
       "      <td>Male</td>\n",
       "      <td>0</td>\n",
       "      <td>0</td>\n",
       "      <td>13</td>\n",
       "      <td>United-States</td>\n",
       "      <td>&lt;=50K</td>\n",
       "    </tr>\n",
       "    <tr>\n",
       "      <th>2</th>\n",
       "      <td>38</td>\n",
       "      <td>Private</td>\n",
       "      <td>215646</td>\n",
       "      <td>HS-grad</td>\n",
       "      <td>9</td>\n",
       "      <td>Divorced</td>\n",
       "      <td>Handlers-cleaners</td>\n",
       "      <td>Not-in-family</td>\n",
       "      <td>White</td>\n",
       "      <td>Male</td>\n",
       "      <td>0</td>\n",
       "      <td>0</td>\n",
       "      <td>40</td>\n",
       "      <td>United-States</td>\n",
       "      <td>&lt;=50K</td>\n",
       "    </tr>\n",
       "    <tr>\n",
       "      <th>3</th>\n",
       "      <td>53</td>\n",
       "      <td>Private</td>\n",
       "      <td>234721</td>\n",
       "      <td>11th</td>\n",
       "      <td>7</td>\n",
       "      <td>Married-civ-spouse</td>\n",
       "      <td>Handlers-cleaners</td>\n",
       "      <td>Husband</td>\n",
       "      <td>Black</td>\n",
       "      <td>Male</td>\n",
       "      <td>0</td>\n",
       "      <td>0</td>\n",
       "      <td>40</td>\n",
       "      <td>United-States</td>\n",
       "      <td>&lt;=50K</td>\n",
       "    </tr>\n",
       "    <tr>\n",
       "      <th>4</th>\n",
       "      <td>28</td>\n",
       "      <td>Private</td>\n",
       "      <td>338409</td>\n",
       "      <td>Bachelors</td>\n",
       "      <td>13</td>\n",
       "      <td>Married-civ-spouse</td>\n",
       "      <td>Prof-specialty</td>\n",
       "      <td>Wife</td>\n",
       "      <td>Black</td>\n",
       "      <td>Female</td>\n",
       "      <td>0</td>\n",
       "      <td>0</td>\n",
       "      <td>40</td>\n",
       "      <td>Cuba</td>\n",
       "      <td>&lt;=50K</td>\n",
       "    </tr>\n",
       "  </tbody>\n",
       "</table>\n",
       "</div>"
      ],
      "text/plain": [
       "   age          workclass  fnlwgt   education  education-num  \\\n",
       "0   39          State-gov   77516   Bachelors             13   \n",
       "1   50   Self-emp-not-inc   83311   Bachelors             13   \n",
       "2   38            Private  215646     HS-grad              9   \n",
       "3   53            Private  234721        11th              7   \n",
       "4   28            Private  338409   Bachelors             13   \n",
       "\n",
       "        marital-status          occupation    relationship    race      sex  \\\n",
       "0        Never-married        Adm-clerical   Not-in-family   White     Male   \n",
       "1   Married-civ-spouse     Exec-managerial         Husband   White     Male   \n",
       "2             Divorced   Handlers-cleaners   Not-in-family   White     Male   \n",
       "3   Married-civ-spouse   Handlers-cleaners         Husband   Black     Male   \n",
       "4   Married-civ-spouse      Prof-specialty            Wife   Black   Female   \n",
       "\n",
       "   capital-gain  capital-loss  hours-per-week  native-country  income  \n",
       "0          2174             0              40   United-States   <=50K  \n",
       "1             0             0              13   United-States   <=50K  \n",
       "2             0             0              40   United-States   <=50K  \n",
       "3             0             0              40   United-States   <=50K  \n",
       "4             0             0              40            Cuba   <=50K  "
      ]
     },
     "execution_count": 2,
     "metadata": {},
     "output_type": "execute_result"
    }
   ],
   "source": [
    "Define = pd.read_csv('/home/nikita/Документы/Phyton_LETI/Phyton_Data/adult.data', header=None, names=['age', 'workclass', 'fnlwgt', 'education', 'education-num', 'marital-status', 'occupation', 'relationship', 'race', 'sex', 'capital-gain', 'capital-loss', 'hours-per-week', 'native-country', 'income'])\n",
    "Define.head()"
   ]
  },
  {
   "cell_type": "code",
   "execution_count": 3,
   "id": "e5868c85-104c-4f06-9f0c-758838e25905",
   "metadata": {},
   "outputs": [
    {
     "name": "stdout",
     "output_type": "stream",
     "text": [
      "Количество столбцов - 15\n"
     ]
    }
   ],
   "source": [
    "# 1 Задание - найти количество столбцов\n",
    "print(f\"Количество столбцов - {len(Define.columns)}\")"
   ]
  },
  {
   "cell_type": "code",
   "execution_count": 4,
   "id": "b5f6a19f-4e8e-40b6-b09c-d59461dcc513",
   "metadata": {},
   "outputs": [
    {
     "name": "stdout",
     "output_type": "stream",
     "text": [
      "workclass: 1836\n",
      "occupation: 1843\n",
      "native-country: 583\n"
     ]
    }
   ],
   "source": [
    "# 2 Задание - найти наличие пропусков, и указать, в каких столбцах\n",
    "Task_Сolumns = []\n",
    "for column in Define.columns:\n",
    "    if Define[column].isin([' ?']).any():\n",
    "        Task_Сolumns.append(column)\n",
    "if len(Task_Сolumns) == 0:\n",
    "    print(\"Все столбцы без пропусков\")\n",
    "else:\n",
    "    for column in Task_Сolumns:\n",
    "        print(f\"{column}: {Define[Define[column] == ' ?'].shape[0]}\")"
   ]
  },
  {
   "cell_type": "code",
   "execution_count": 5,
   "id": "b7237226-d5ea-47df-ab0b-6c6398f977fd",
   "metadata": {},
   "outputs": [
    {
     "name": "stdout",
     "output_type": "stream",
     "text": [
      "Количествово уникальных значений в столбце race - 5\n"
     ]
    }
   ],
   "source": [
    "# 3 Задание - найти количество уникальных значений в столбце race\n",
    "\n",
    "print(f\"Количествово уникальных значений в столбце race - {Define['race'].nunique()}\")"
   ]
  },
  {
   "cell_type": "code",
   "execution_count": 6,
   "id": "8d7019fc-6488-41a0-a09f-25af4270968f",
   "metadata": {},
   "outputs": [
    {
     "name": "stdout",
     "output_type": "stream",
     "text": [
      "Медиана hours-per-week - 40.0\n"
     ]
    }
   ],
   "source": [
    "# 4 Задание - найти медиану hours-per-week\n",
    "\n",
    "print(f\"Медиана hours-per-week - {Define['hours-per-week'].median()}\")"
   ]
  },
  {
   "cell_type": "code",
   "execution_count": 7,
   "id": "21a45c5e-6d8b-4704-9f1c-463de68f0171",
   "metadata": {},
   "outputs": [
    {
     "name": "stdout",
     "output_type": "stream",
     "text": [
      "Больше мужчин с ЗП > 50K\n"
     ]
    }
   ],
   "source": [
    "# 5 Задание - узнать, кого больше  с ЗП > 50K, мужчин или женщин \n",
    "\n",
    "High_Salary = Define['income'] == ' >50K'\n",
    "Men_Salary = Define[High_Salary]['sex'].value_counts()[' Male']\n",
    "Women_Salary = Define[High_Salary]['sex'].value_counts()[' Female']\n",
    "\n",
    "if Men_Salary > Women_Salary:\n",
    "    print(\"Больше мужчин с ЗП > 50K\")\n",
    "elif Women_Salary > Men_Salary:\n",
    "    print(\"Больше женщин с ЗП > 50K\")\n",
    "else:\n",
    "    print(\"Мужчин и женщин с ЗП > 50K поровну\")"
   ]
  },
  {
   "cell_type": "code",
   "execution_count": 8,
   "id": "a03b7c3a-8a18-486a-9d4d-53bd81a1a6ef",
   "metadata": {},
   "outputs": [],
   "source": [
    "# 6 Задание - Заполнить пропущенные данные в отдельных столбцах с наиболее встречаемыми значениями.\n",
    "\n",
    "columns = ['workclass', 'occupation', 'native-country']\n",
    "for col in columns:\n",
    "    most_common = Define[col].mode()[0]\n",
    "    Define.replace({col: ' ?'}, most_common, inplace=True)"
   ]
  },
  {
   "cell_type": "code",
   "execution_count": 9,
   "id": "2444a361-4ddf-4c09-bf73-ad25d7c4b861",
   "metadata": {},
   "outputs": [
    {
     "name": "stdout",
     "output_type": "stream",
     "text": [
      "Пропусков нигде нет\n"
     ]
    }
   ],
   "source": [
    "#Проверка на обновление данных\n",
    "Task_Columns = []\n",
    "for column in Define.columns:\n",
    "    if Define[column].isin([' ?']).any():\n",
    "        Task_Columns.append(column)\n",
    "if len(Task_Columns) == 0:\n",
    "    print(\"Пропусков нигде нет\")\n",
    "else:\n",
    "    for column in columns_with_question_marks:\n",
    "        print(f\"{column}: {Define[Define[column] == ' ?'].shape[0]}\")"
   ]
  },
  {
   "cell_type": "code",
   "execution_count": null,
   "id": "e13ce5df-76a4-475d-b016-ff419c27ebd4",
   "metadata": {},
   "outputs": [],
   "source": []
  }
 ],
 "metadata": {
  "kernelspec": {
   "display_name": "Python 3 (ipykernel)",
   "language": "python",
   "name": "python3"
  },
  "language_info": {
   "codemirror_mode": {
    "name": "ipython",
    "version": 3
   },
   "file_extension": ".py",
   "mimetype": "text/x-python",
   "name": "python",
   "nbconvert_exporter": "python",
   "pygments_lexer": "ipython3",
   "version": "3.10.12"
  }
 },
 "nbformat": 4,
 "nbformat_minor": 5
}
